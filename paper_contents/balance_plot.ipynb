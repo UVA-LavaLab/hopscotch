{
 "cells": [
  {
   "cell_type": "code",
   "execution_count": 35,
   "metadata": {},
   "outputs": [],
   "source": [
    "import pandas as pd\n",
    "import numpy as np\n",
    "import math\n",
    "import matplotlib.pyplot as plt\n",
    "data = pd.read_csv('machine_balance_2019.csv', delim_whitespace=True)"
   ]
  },
  {
   "cell_type": "code",
   "execution_count": 39,
   "metadata": {},
   "outputs": [
    {
     "data": {
      "text/plain": [
       "[<matplotlib.lines.Line2D at 0x7f809494cc88>]"
      ]
     },
     "execution_count": 39,
     "metadata": {},
     "output_type": "execute_result"
    },
    {
     "data": {
      "image/png": "[encoded data removed]",
      "text/plain": [
       "<Figure size 432x288 with 1 Axes>"
      ]
     },
     "metadata": {
      "needs_background": "light"
     },
     "output_type": "display_data"
    }
   ],
   "source": [
    "plt.plot(data.date, np.log(data.balance), 'ro')"
   ]
  },
  {
   "cell_type": "code",
   "execution_count": 38,
   "metadata": {},
   "outputs": [
    {
     "data": {
      "text/plain": [
       "0       34.1\n",
       "1       33.6\n",
       "2       23.4\n",
       "3       77.1\n",
       "4       77.1\n",
       "5       39.5\n",
       "6       59.6\n",
       "7        3.4\n",
       "8       59.7\n",
       "9       54.3\n",
       "10      30.7\n",
       "11      43.4\n",
       "12      12.0\n",
       "13      16.6\n",
       "14      38.3\n",
       "15      25.4\n",
       "16      26.2\n",
       "17       8.4\n",
       "18       9.5\n",
       "19      10.6\n",
       "20       5.0\n",
       "21       2.8\n",
       "22      43.9\n",
       "23      49.2\n",
       "24      44.3\n",
       "25      44.2\n",
       "26      24.2\n",
       "27      11.5\n",
       "28      11.5\n",
       "29      11.9\n",
       "        ... \n",
       "1048     3.4\n",
       "1049    12.0\n",
       "1050    15.5\n",
       "1051     9.5\n",
       "1052    13.2\n",
       "1053    10.7\n",
       "1054    13.3\n",
       "1055     0.8\n",
       "1056    15.3\n",
       "1057    15.0\n",
       "1058     0.8\n",
       "1059     4.4\n",
       "1060    12.2\n",
       "1061    19.3\n",
       "1062    10.8\n",
       "1063    16.3\n",
       "1064     4.0\n",
       "1065     2.7\n",
       "1066     4.6\n",
       "1067     6.4\n",
       "1068     6.7\n",
       "1069     4.2\n",
       "1070     5.1\n",
       "1071     3.5\n",
       "1072     6.7\n",
       "1073     3.5\n",
       "1074     6.7\n",
       "1075     5.3\n",
       "1076     8.0\n",
       "1077     0.8\n",
       "Name: balance, Length: 1078, dtype: float64"
      ]
     },
     "execution_count": 38,
     "metadata": {},
     "output_type": "execute_result"
    }
   ],
   "source": [
    "data.balance"
   ]
  },
  {
   "cell_type": "code",
   "execution_count": null,
   "metadata": {},
   "outputs": [],
   "source": []
  }
 ],
 "metadata": {
  "kernelspec": {
   "display_name": "Python 3",
   "language": "python",
   "name": "python3"
  },
  "language_info": {
   "codemirror_mode": {
    "name": "ipython",
    "version": 3
   },
   "file_extension": ".py",
   "mimetype": "text/x-python",
   "name": "python",
   "nbconvert_exporter": "python",
   "pygments_lexer": "ipython3",
   "version": "3.5.2"
  }
 },
 "nbformat": 4,
 "nbformat_minor": 2
}
